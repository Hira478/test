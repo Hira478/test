{
 "cells": [
  {
   "cell_type": "code",
   "execution_count": 2,
   "metadata": {},
   "outputs": [
    {
     "name": "stdout",
     "output_type": "stream",
     "text": [
      "Hello World\n"
     ]
    }
   ],
   "source": [
    "print(\"BMI calculator\")\n",
    "weight = float(input(\"enter your weight in kgs\"))\n",
    "height = float(input(\"enter your weight in meters\"))\n",
    "BMI = weight / (height*height)\n",
    "\n",
    "if (BMI>0):\n",
    "    if (BMI<=16):\n",
    "        print(\"You are very underweight\")\n",
    "    elif (BMI<=18.5):\n",
    "        print(\"You are underweight\")\n",
    "    elif (BMI<=25):\n",
    "        print(\"Good job! You are Healthy\")\n",
    "    elif (BMI<=38):\n",
    "        print(\"You are overweight\")\n",
    "    else:\n",
    "        print(\"You are very underweight\")\n",
    "else:\n",
    "    print(\"enter valid details\")"
   ]
  }
 ],
 "metadata": {
  "kernelspec": {
   "display_name": "Python 3.9.13 ('py39')",
   "language": "python",
   "name": "python3"
  },
  "language_info": {
   "codemirror_mode": {
    "name": "ipython",
    "version": 3
   },
   "file_extension": ".py",
   "mimetype": "text/x-python",
   "name": "python",
   "nbconvert_exporter": "python",
   "pygments_lexer": "ipython3",
   "version": "3.9.13"
  },
  "orig_nbformat": 4,
  "vscode": {
   "interpreter": {
    "hash": "110da7304f0ec211c2d8bee9184c926c4df04cf7609e708bc8b966d74c310327"
   }
  }
 },
 "nbformat": 4,
 "nbformat_minor": 2
}
